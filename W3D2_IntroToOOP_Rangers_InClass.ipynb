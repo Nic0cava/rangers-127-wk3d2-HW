{
 "cells": [
  {
   "cell_type": "markdown",
   "metadata": {},
   "source": [
    "# Object-Oriented-Programming (OOP)"
   ]
  },
  {
   "cell_type": "markdown",
   "metadata": {},
   "source": [
    "## Tasks Today:\n",
    "\n",
    "   \n",
    "\n",
    "1) <b>Creating a Class (Initializing/Declaring)</b> <br>\n",
    "2) <b>Using a Class (Instantiating)</b> <br>\n",
    " &nbsp;&nbsp;&nbsp;&nbsp; a) Creating One Instance <br>\n",
    " &nbsp;&nbsp;&nbsp;&nbsp; b) Creating Multiple Instances <br>\n",
    " &nbsp;&nbsp;&nbsp;&nbsp; c) In-Class Exercise #1 - Create a Class 'Car' and instantiate three different makes of cars <br>\n",
    "3) <b>The \\__init\\__() Method</b> <br>\n",
    " &nbsp;&nbsp;&nbsp;&nbsp; a) The 'self' Attribute <br>\n",
    "4) <b>Class Attributes</b> <br>\n",
    " &nbsp;&nbsp;&nbsp;&nbsp; a) Initializing Attributes <br>\n",
    " &nbsp;&nbsp;&nbsp;&nbsp; b) Setting an Attribute Outside of the \\__init\\__() Method <br>\n",
    " &nbsp;&nbsp;&nbsp;&nbsp; c) Setting Defaults for Attributes <br>\n",
    " &nbsp;&nbsp;&nbsp;&nbsp; d) Accessing Class Attributes <br>\n",
    " &nbsp;&nbsp;&nbsp;&nbsp; e) Changing Class Attributes <br>\n",
    " &nbsp;&nbsp;&nbsp;&nbsp; f) In-Class Exercise #2 - Add a color and wheels attribute to your 'Car' class <br>\n",
    "5) <b>Class Methods</b> <br>\n",
    " &nbsp;&nbsp;&nbsp;&nbsp; a) Creating <br>\n",
    " &nbsp;&nbsp;&nbsp;&nbsp; b) Calling <br>\n",
    " &nbsp;&nbsp;&nbsp;&nbsp; c) Modifying an Attribute's Value Through a Method <br>\n",
    " &nbsp;&nbsp;&nbsp;&nbsp; d) Incrementing an Attribute's Value Through a Method <br>\n",
    " &nbsp;&nbsp;&nbsp;&nbsp; e) In-Class Exercise #3 - Add a method that prints the cars color and wheel number, then call them <br>\n",
    "6) <b>Inheritance</b> <br>\n",
    " &nbsp;&nbsp;&nbsp;&nbsp; a) Syntax for Inheriting from a Parent Class <br>\n",
    " &nbsp;&nbsp;&nbsp;&nbsp; b) The \\__init\\__() Method for a Child Class (super()) <br>\n",
    " &nbsp;&nbsp;&nbsp;&nbsp; c) Defining Attributes and Methods for the Child Class <br>\n",
    " &nbsp;&nbsp;&nbsp;&nbsp; d) Method Overriding <br>\n",
    " &nbsp;&nbsp;&nbsp;&nbsp; e) In-Class Exercise #4 - Create a class 'Ford' that inherits from 'Car' class and initialize it as a Blue Ford Explorer with 4 wheels using the super() method <br>\n",
    "7) <b>Encapsulation</b> <br>\n",
    " &nbsp;&nbsp;&nbsp;&nbsp; a) Public Access Modifier <br>\n",
    " &nbsp;&nbsp;&nbsp;&nbsp; b) Protected Access Modifier <br>\n",
    " &nbsp;&nbsp;&nbsp;&nbsp; c) Private Access Modifier <br>\n",
    "8) <b>Classes as Attributes</b> <br>\n",
    "9) <b>Exercises</b> <br>\n",
    " &nbsp;&nbsp;&nbsp;&nbsp; a) Exercise #1 - Turn the shopping cart program from last week into an object-oriented program <br>"
   ]
  },
  {
   "cell_type": "markdown",
   "metadata": {},
   "source": [
    "## Creating a Class (Initializing/Declaring)\n",
    "<p>When creating a class, function, or even a variable you are initializing that object. Initializing and Declaring occur at the same time in Python, whereas in lower level languages you have to declare an object before initializing it. This is the first step in the process of using a class.</p>"
   ]
  },
  {
   "cell_type": "code",
   "execution_count": 5,
   "metadata": {},
   "outputs": [],
   "source": [
    "#utilizing that class keyword and then PascalCase the class name.\n",
    "class Car():\n",
    "    \n",
    "    #creat some class attributes\n",
    "    wheels = 4\n",
    "    color = 'blue'\n",
    "    "
   ]
  },
  {
   "cell_type": "markdown",
   "metadata": {},
   "source": [
    "## Using a Class (Instantiating)\n",
    "<p>The process of creating a class is called <i>Instantiating</i>. Each time you create a variable of that type of class, it is referred to as an <i>Instance</i> of that class. This is the second step in the process of using a class.</p>"
   ]
  },
  {
   "cell_type": "markdown",
   "metadata": {},
   "source": [
    "##### Creating One Instance"
   ]
  },
  {
   "cell_type": "code",
   "execution_count": 8,
   "metadata": {},
   "outputs": [
    {
     "name": "stdout",
     "output_type": "stream",
     "text": [
      "4\n",
      "blue\n",
      "{'__module__': '__main__', 'wheels': 4, 'color': 'blue', '__dict__': <attribute '__dict__' of 'Car' objects>, '__weakref__': <attribute '__weakref__' of 'Car' objects>, '__doc__': None}\n"
     ]
    }
   ],
   "source": [
    "\n",
    "ford = Car()\n",
    "print(ford.wheels)\n",
    "print(ford.color)\n",
    "print(Car.__dict__)"
   ]
  },
  {
   "cell_type": "markdown",
   "metadata": {},
   "source": [
    "##### Creating Multiple Instances"
   ]
  },
  {
   "cell_type": "code",
   "execution_count": 11,
   "metadata": {},
   "outputs": [
    {
     "name": "stdout",
     "output_type": "stream",
     "text": [
      "blue\n",
      "blue\n"
     ]
    }
   ],
   "source": [
    "honda = Car()\n",
    "mazda = Car()\n",
    "\n",
    "print(mazda.color)\n",
    "print(honda.color)"
   ]
  },
  {
   "cell_type": "markdown",
   "metadata": {},
   "source": [
    "##### In-Class Exercise #1 - Create a Class 'Car' and Instantiate three different makes of cars"
   ]
  },
  {
   "cell_type": "code",
   "execution_count": 33,
   "metadata": {},
   "outputs": [
    {
     "name": "stdout",
     "output_type": "stream",
     "text": [
      "white\n",
      "2\n",
      "4\n"
     ]
    }
   ],
   "source": [
    "class Car():\n",
    "\n",
    "    def __init__(self, wheels, color, doors):\n",
    "        self.wheels = wheels \n",
    "        self.color = color \n",
    "        self.doors = doors\n",
    "\n",
    "\n",
    "chevy = Car(4, 'white', 4)\n",
    "nissan = Car(4, 'black', 2)\n",
    "honda = Car(4, 'tan', 4)\n",
    "\n",
    "print(chevy.color)\n",
    "print(nissan.doors)\n",
    "print(honda.wheels)"
   ]
  },
  {
   "cell_type": "code",
   "execution_count": 32,
   "metadata": {},
   "outputs": [
    {
     "name": "stdout",
     "output_type": "stream",
     "text": [
      "white\n",
      "2\n",
      "4\n"
     ]
    }
   ],
   "source": []
  },
  {
   "cell_type": "code",
   "execution_count": null,
   "metadata": {},
   "outputs": [],
   "source": []
  },
  {
   "cell_type": "code",
   "execution_count": null,
   "metadata": {},
   "outputs": [],
   "source": []
  },
  {
   "cell_type": "markdown",
   "metadata": {},
   "source": [
    "## The \\__init\\__() Method <br>\n",
    "<p>This method is used in almost every created class, and called only once upon the creation of the class instance. This method will initialize all variables needed for the object.</p>"
   ]
  },
  {
   "cell_type": "code",
   "execution_count": 20,
   "metadata": {},
   "outputs": [],
   "source": [
    "class Car():\n",
    "\n",
    "    engine = True #class attribute\n",
    "\n",
    "    def __init__(self, wheels, color, doors): #special method\n",
    "        self.wheels = wheels #object attributes\n",
    "        self.color = color #object attributes\n",
    "        self.doors = doors #object attributes\n",
    "        "
   ]
  },
  {
   "cell_type": "code",
   "execution_count": 23,
   "metadata": {},
   "outputs": [
    {
     "name": "stdout",
     "output_type": "stream",
     "text": [
      "red\n",
      "tan\n"
     ]
    }
   ],
   "source": [
    "ford = Car(4, 'red', 2) #ford is the self \n",
    "mazda = Car(4, 'black', 2)\n",
    "subaru = Car(4, 'tan', 4)\n",
    "\n",
    "print(ford.color)\n",
    "print(subaru.color)"
   ]
  },
  {
   "cell_type": "markdown",
   "metadata": {},
   "source": [
    "##### The 'self' Attribute <br>\n",
    "<p>This attribute is required to keep track of specific instance's attributes. Without the self attribute, the program would not know how to reference or keep track of an instance's attributes.</p>"
   ]
  },
  {
   "cell_type": "code",
   "execution_count": 37,
   "metadata": {},
   "outputs": [
    {
     "name": "stdout",
     "output_type": "stream",
     "text": [
      "Charmander\n",
      "This is Charmander. It is a fire type\n"
     ]
    }
   ],
   "source": [
    "class Pokemon():\n",
    "\n",
    "    def __init__(self, name, type_):\n",
    "        self.name = name\n",
    "        self.type_ = type_\n",
    "\n",
    "    def print_info(self):\n",
    "        print(f\"This is {self.name}. It is a {self.type_} type\")\n",
    "\n",
    "\n",
    "charmander = Pokemon(\"Charmander\", \"fire\")\n",
    "print(charmander.name)\n",
    "\n",
    "charmander.print_info() #dot method. aka a function specific to that object/class type"
   ]
  },
  {
   "cell_type": "markdown",
   "metadata": {},
   "source": [
    "## Class Attributes <br>\n",
    "<p>While variables are inside of a class, they are referred to as attributes and not variables. When someone says 'attribute' you know they're speaking about a class. Attributes can be initialized through the init method, or outside of it.</p>"
   ]
  },
  {
   "cell_type": "markdown",
   "metadata": {},
   "source": [
    "##### Initializing Attributes"
   ]
  },
  {
   "cell_type": "code",
   "execution_count": 40,
   "metadata": {},
   "outputs": [],
   "source": [
    "bulbasaur = Pokemon(\"Bulbasaur\", \"Grass\")"
   ]
  },
  {
   "cell_type": "markdown",
   "metadata": {},
   "source": [
    "##### Accessing Class Attributes"
   ]
  },
  {
   "cell_type": "code",
   "execution_count": 43,
   "metadata": {
    "scrolled": true
   },
   "outputs": [
    {
     "name": "stdout",
     "output_type": "stream",
     "text": [
      "Bulbasaur\n",
      "Grass\n",
      "{'name': 'Bulbasaur', 'type_': 'Grass'}\n"
     ]
    }
   ],
   "source": [
    "print(bulbasaur.name) #accessing specific attributes\n",
    "print(bulbasaur.type_)\n",
    "\n",
    "print(bulbasaur.__dict__) #accessing all your attributes inside your __init__() method"
   ]
  },
  {
   "cell_type": "markdown",
   "metadata": {},
   "source": [
    "##### Setting Defaults for Attributes"
   ]
  },
  {
   "cell_type": "code",
   "execution_count": 47,
   "metadata": {},
   "outputs": [
    {
     "name": "stdout",
     "output_type": "stream",
     "text": [
      "4\n",
      "Blue\n"
     ]
    }
   ],
   "source": [
    "#two ways of setting default attributes aka perameters\n",
    "\n",
    "class Car():\n",
    "\n",
    "    def __init__(self):\n",
    "        self.wheels = 4\n",
    "        self.color = 'Blue' #one of way of setting default attribute when you don't want the option to\n",
    "                            #instantiate with them\n",
    "honda = Car()\n",
    "\n",
    "print(honda.wheels)\n",
    "print(honda.color)\n",
    "        "
   ]
  },
  {
   "cell_type": "code",
   "execution_count": 49,
   "metadata": {},
   "outputs": [
    {
     "name": "stdout",
     "output_type": "stream",
     "text": [
      "Blue\n",
      "Red\n"
     ]
    }
   ],
   "source": [
    "class Car():\n",
    "\n",
    "    def __init__(self, wheels = 4, color = 'Blue'): #default attributes if you want the option to instantiate with them\n",
    "        self.wheels = wheels\n",
    "        self.color = color\n",
    "\n",
    "ford = Car()\n",
    "\n",
    "subaru = Car(6, 'Red')\n",
    "\n",
    "print(ford.color)\n",
    "print(subaru.color)"
   ]
  },
  {
   "cell_type": "markdown",
   "metadata": {},
   "source": [
    "##### Changing Class Attributes <br>\n",
    "<p>Keep in mind there are global class attributes and then there are attributes only available to each class instance which won't effect other classes.</p>"
   ]
  },
  {
   "cell_type": "code",
   "execution_count": 50,
   "metadata": {},
   "outputs": [],
   "source": [
    "#all variables inside of classes are local to that class. They are accessible anywhere inside that class\n",
    "\n",
    "class Car():\n",
    "\n",
    "    TYPE = 'car' #class attribute but it's also a constant denoted by all caps\n",
    "\n",
    "    def __init__(self, wheels): #instance attribute (can/will be different for each instance ogf that class\n",
    "        self.wheels = wheels\n",
    "        self.color = 'Blue'\n",
    "\n"
   ]
  },
  {
   "cell_type": "code",
   "execution_count": null,
   "metadata": {},
   "outputs": [],
   "source": []
  },
  {
   "cell_type": "markdown",
   "metadata": {},
   "source": [
    "##### In-Class Exercise #2 - Add two new attributes to your 'Car' class then print out two different instances with different doors and seats. Then take that bad boy to the shop and change those attributes. Either with an input or just by changing them"
   ]
  },
  {
   "cell_type": "code",
   "execution_count": 62,
   "metadata": {},
   "outputs": [
    {
     "name": "stdout",
     "output_type": "stream",
     "text": [
      "black\n"
     ]
    },
    {
     "name": "stdin",
     "output_type": "stream",
     "text": [
      "What is the new color of your car?  red\n"
     ]
    },
    {
     "name": "stdout",
     "output_type": "stream",
     "text": [
      "red\n",
      "My Ford Escape is grey with 4 doors and 5 seats\n"
     ]
    }
   ],
   "source": [
    "class Car():\n",
    "    wheels = 4\n",
    "\n",
    "    def __init__(self, make, model, year, color, doors = 4, seats = 5):\n",
    "        self.make = make \n",
    "        self.model = model \n",
    "        self.year = year\n",
    "        self.color = color\n",
    "        self.doors = doors\n",
    "        self.seats = seats\n",
    "\n",
    "    def change_color(self): #changing attributes by utilizing a method inside of a class\n",
    "        color = input(\"What is the new color of your car? \")\n",
    "        self.color = color \n",
    "\n",
    "\n",
    "\n",
    "honda = Car(\"Honda\", \"CRV\", 2023, \"black\")\n",
    "print(honda.color)\n",
    "# honda.color = \"white\"\n",
    "# print(honda.color)\n",
    "\n",
    "honda.change_color()\n",
    "print(honda.color)\n",
    "\n",
    "ford = Car(\"Ford\", \"Escape\", 2020, \"grey\")\n",
    "print(f\"My {ford.make} {ford.model} is {ford.color} with {ford.doors} doors and {ford.seats} seats\")"
   ]
  },
  {
   "cell_type": "markdown",
   "metadata": {},
   "source": [
    "## Class Methods <br>\n",
    "<p>While inside of a class, functions are referred to as 'methods'. If you hear someone mention methods, they're speaking about classes. Methods are essentially functions, but only callable on the instances of a class.</p>"
   ]
  },
  {
   "cell_type": "markdown",
   "metadata": {},
   "source": [
    "##### Creating"
   ]
  },
  {
   "cell_type": "code",
   "execution_count": 72,
   "metadata": {},
   "outputs": [],
   "source": [
    "class Bus():\n",
    "    \"\"\"\n",
    "    class Bus will have the attributes: doors, seats, seats available, color, and bus driver\n",
    "\n",
    "    Attributes Types:\n",
    "    -doors: integer\n",
    "    _seats: integer\n",
    "    _seats_available: integer\n",
    "    _color: string\n",
    "    -bus_driver: string\n",
    "    \"\"\"\n",
    "    def __init__(self, doors, seats, seats_availavle, color, bus_driver):\n",
    "        self.doors = doors\n",
    "        self.seats = seats\n",
    "        self.seats_available = seats_available\n",
    "        self.color = color\n",
    "        self.bus_driver = bus_driver\n",
    "    #drecrement the number of seats available when someone comes on the bus\n",
    "    def load_passengers(self):\n",
    "        if self.seats_available <= 0:\n",
    "            print(\"This bus is full! \")\n",
    "        else:\n",
    "            while True:\n",
    "                \n",
    "                passengers = int(input(\"How many passengers are gettimg on today? \"))\n",
    "                if self.seats_available - passengers < 0:\n",
    "                    print(\"You are trying to load too many passengers.\")\n",
    "                else:\n",
    "                    self.seats_available -= passengers\n",
    "                    break\n",
    "        print(f\"{passengers} passengers have boarded. There are {self.seats_available} seats left on the bus.\")\n",
    "\n",
    "    def unload_passengers(self):\n",
    "        if self.seats_available >= self.seats:\n",
    "            print(\"There is no one on the bus to unload!\")\n",
    "            self.seats_available = self.seats\n",
    "        else:\n",
    "            unload = int(input(\"How many passengers are getting off the bus?\"))\n",
    "            slef.seats_available += unload\n",
    "            if self.seats_available >= self.seats:\n",
    "                self.seats_available = self.seats\n",
    "\n",
    "        print(f\"{unload} passengers have left the bus. There are {self.seats_available} seats left on the bus\")\n",
    "\n",
    "\n",
    "                         \n",
    "        \n",
    "\n",
    "\n"
   ]
  },
  {
   "cell_type": "markdown",
   "metadata": {},
   "source": [
    "##### Calling"
   ]
  },
  {
   "cell_type": "code",
   "execution_count": null,
   "metadata": {},
   "outputs": [],
   "source": [
    "def run():\n",
    "    alex_bus = Bus(2, 100, 100, 'red', 'Alex')\n",
    "\n",
    "    while True:\n",
    "        response = input('What would you like to do today? Load/Unload/Change Seats/Admire/Quit/ ').lower()\n",
    "\n",
    "        if response == 'quit':\n",
    "            print(\"Oh no! There are still passengers to be picked up! Don't leave them hanging!\")\n",
    "            break\n",
    "        elif response == 'load':\n",
    "            "
   ]
  },
  {
   "cell_type": "markdown",
   "metadata": {},
   "source": [
    "##### Modifying an Attribute's Value Through a Method"
   ]
  },
  {
   "cell_type": "code",
   "execution_count": null,
   "metadata": {},
   "outputs": [],
   "source": [
    "# see above\n",
    "# load_passengers()\n",
    "# unload_passengers()\n",
    "# change_driver()"
   ]
  },
  {
   "cell_type": "markdown",
   "metadata": {},
   "source": [
    "##### Incrementing an Attribute's Value Through a Method"
   ]
  },
  {
   "cell_type": "code",
   "execution_count": null,
   "metadata": {},
   "outputs": [],
   "source": [
    "#unload_passengers()"
   ]
  },
  {
   "cell_type": "markdown",
   "metadata": {},
   "source": [
    "##### In-Class Exercise #3 - Add a method that takes in three parameters of year, doors and seats and prints out a formatted print statement with make, model, year, seats, and doors"
   ]
  },
  {
   "cell_type": "code",
   "execution_count": 75,
   "metadata": {},
   "outputs": [
    {
     "name": "stdout",
     "output_type": "stream",
     "text": [
      "Honda\n",
      "CRV\n",
      "This car is a Honda CRV\n",
      "This car is a Subaru Outback\n"
     ]
    }
   ],
   "source": [
    "# Create class with 2 paramters inside of the __init__ which are make and model, more if you'd like\n",
    "\n",
    "# Create two methods for your class\n",
    "\n",
    "# Create a method that alters an attribute for your class\n",
    "\n",
    "# Display method that prints information about the vehicle\n",
    "\n",
    "# Output: This car is from 2019 and is a Ford Expolorer and has 4 doors and 5 seats\n",
    "\n",
    "# reminder in order to call class methods object.method()\n",
    "\n",
    "class Car():\n",
    "\n",
    "    def __init__(self, make, model):\n",
    "        self.make = make \n",
    "        self.model = model \n",
    "        \n",
    "    def change_make(self):\n",
    "        make = input(\"What is the new make of your car? \")\n",
    "        self.make = make \n",
    "        \n",
    "    def display(self):\n",
    "        print(f\"This car is a {self.make} {self.model}\")\n",
    "\n",
    "\n",
    "honda = Car(\"Honda\", \"CRV\")\n",
    "print(honda.make)\n",
    "print(honda.model)\n",
    "\n",
    "\n",
    "honda.display()\n",
    "\n",
    "alex_car = Car(\"Subaru\", \"Outback\")\n",
    "\n",
    "alex_car.display()\n",
    "\n"
   ]
  },
  {
   "cell_type": "markdown",
   "metadata": {},
   "source": [
    "## Inheritance <br>\n",
    "<p>You can create a child-parent relationship between two classes by using inheritance. What this allows you to do is have overriding methods, but also inherit traits from the parent class. Think of it as an actual parent and child, the child will inherit the parent's genes, as will the classes in OOP</p>"
   ]
  },
  {
   "cell_type": "markdown",
   "metadata": {},
   "source": [
    "##### Syntax for Inheriting from a Parent Class"
   ]
  },
  {
   "cell_type": "code",
   "execution_count": 77,
   "metadata": {},
   "outputs": [],
   "source": [
    "#creation of a parent class\n",
    "\n",
    "class Animal():\n",
    "\n",
    "    ACCELERATION = 9.8 #constant class attribute\n",
    "\n",
    "    def __init__(self, name, species, legs = 4):\n",
    "        self.name = name\n",
    "        self.species = species\n",
    "        self.legs = legs\n",
    "\n",
    "    #generic parent method\n",
    "    def make_sound(self):\n",
    "        print(\"REEEEEEEE\")\n",
    "\n"
   ]
  },
  {
   "cell_type": "markdown",
   "metadata": {},
   "source": [
    "##### The \\__init\\__() Method for a Child Class - super()"
   ]
  },
  {
   "cell_type": "code",
   "execution_count": 82,
   "metadata": {
    "scrolled": true
   },
   "outputs": [
    {
     "name": "stdout",
     "output_type": "stream",
     "text": [
      "Lassy accelerates at 9.8, and has 4 legs\n",
      "REEEEEEEE\n"
     ]
    }
   ],
   "source": [
    "#creation of child class inheriting from parent class\n",
    "\n",
    "class Dog(Animal):\n",
    "\n",
    "    def __init__(self, name, eye_color, species = \"Dog\"):\n",
    "        super().__init__(name, eye_color, species)\n",
    "\n",
    "\n",
    "    def print_info(self):\n",
    "        print(f\"{self.name} accelerates at {self.ACCELERATION}, and has {self.legs} legs\")\n",
    "\n",
    "\n",
    "lassy = Dog(\"Lassy\")\n",
    "lassy.print_info()\n",
    "lassy.make_sound()"
   ]
  },
  {
   "cell_type": "code",
   "execution_count": null,
   "metadata": {},
   "outputs": [],
   "source": [
    "class Mutt(Dog): #since Dog is a child class of Animal, Mutt now has the inherited methds from both Dog and Animal classes\n",
    "\n",
    "    def __init__(self, name, eye_color, species = \"Mutt\"):\n",
    "        Dog.__init__(self, name, eye_color, species)\n",
    "        self.nickname = nickname\n",
    "\n",
    "    #override methods from one class to the next (Idea of polymorphism aka many forms)\n",
    "    def make_sound(self):\n",
    "        print(\"Bark Bark Barrk\")\n",
    "\n",
    "\n",
    "henri = Mutt('henri', 'brown', \"mooshies\")"
   ]
  },
  {
   "cell_type": "markdown",
   "metadata": {},
   "source": [
    "##### Defining Attributes and Methods for the Child Class"
   ]
  },
  {
   "cell_type": "code",
   "execution_count": null,
   "metadata": {},
   "outputs": [],
   "source": [
    "# See Above"
   ]
  },
  {
   "cell_type": "markdown",
   "metadata": {},
   "source": [
    "##### Method Overriding"
   ]
  },
  {
   "cell_type": "code",
   "execution_count": null,
   "metadata": {},
   "outputs": [],
   "source": [
    "# See Above"
   ]
  },
  {
   "cell_type": "markdown",
   "metadata": {},
   "source": [
    "## Encapsulation\n"
   ]
  },
  {
   "cell_type": "markdown",
   "metadata": {},
   "source": [
    "<p>Encapsulation is one of the fundamental concepts in object-oriented programming (OOP). It describes the idea of wrapping data and the methods that work on data within one unit. This puts restrictions on accessing variables and methods directly and can prevent the accidental modification of data. f"
   ]
  },
  {
   "cell_type": "markdown",
   "metadata": {},
   "source": [
    "### Access Modifiers\n"
   ]
  },
  {
   "cell_type": "markdown",
   "metadata": {},
   "source": [
    "#### Public\n",
    "<p> Attributes & methods default to public in classes. Meaning they can be accessed from anywhere. "
   ]
  },
  {
   "cell_type": "code",
   "execution_count": 1,
   "metadata": {},
   "outputs": [],
   "source": [
    "#see above. All attributes & methods in the previous examples are public"
   ]
  },
  {
   "cell_type": "markdown",
   "metadata": {},
   "source": [
    "#### Protected \n",
    "<p>Protected attributes are denoted with a singular '_' underscore. Attributes & methods that are protected are only accessible in the class it derived from and any inherited classes. "
   ]
  },
  {
   "cell_type": "code",
   "execution_count": 85,
   "metadata": {},
   "outputs": [
    {
     "ename": "AttributeError",
     "evalue": "'Dog' object has no attribute '_species'",
     "output_type": "error",
     "traceback": [
      "\u001b[0;31m---------------------------------------------------------------------------\u001b[0m",
      "\u001b[0;31mAttributeError\u001b[0m                            Traceback (most recent call last)",
      "Cell \u001b[0;32mIn[85], line 20\u001b[0m\n\u001b[1;32m     17\u001b[0m                              \u001b[38;5;66;03m# but also any inherited class\u001b[39;00m\n\u001b[1;32m     19\u001b[0m eyo \u001b[38;5;241m=\u001b[39m Dog(\u001b[38;5;124m'\u001b[39m\u001b[38;5;124mEyo\u001b[39m\u001b[38;5;124m'\u001b[39m)\n\u001b[0;32m---> 20\u001b[0m \u001b[43meyo\u001b[49m\u001b[38;5;241;43m.\u001b[39;49m\u001b[43mdisplay_species\u001b[49m\u001b[43m(\u001b[49m\u001b[43m)\u001b[49m\n\u001b[1;32m     22\u001b[0m \u001b[38;5;28mprint\u001b[39m(eyo\u001b[38;5;241m.\u001b[39m_species) \u001b[38;5;66;03m#python makes rules but doesn't necessarily enforce, DONT DO THIS!\u001b[39;00m\n",
      "Cell \u001b[0;32mIn[85], line 16\u001b[0m, in \u001b[0;36mDog.display_species\u001b[0;34m(self)\u001b[0m\n\u001b[1;32m     15\u001b[0m \u001b[38;5;28;01mdef\u001b[39;00m \u001b[38;5;21mdisplay_species\u001b[39m(\u001b[38;5;28mself\u001b[39m):\n\u001b[0;32m---> 16\u001b[0m     \u001b[38;5;28;01mreturn\u001b[39;00m \u001b[38;5;28;43mself\u001b[39;49m\u001b[38;5;241;43m.\u001b[39;49m\u001b[43m_species\u001b[49m\n",
      "\u001b[0;31mAttributeError\u001b[0m: 'Dog' object has no attribute '_species'"
     ]
    }
   ],
   "source": [
    "class Animal():\n",
    "\n",
    "    ACCELERATION = 9.8\n",
    "\n",
    "    def __init__(self, name, species, legs = 4):\n",
    "        self.name = name\n",
    "        self. species = species\n",
    "        self.legs = legs\n",
    "\n",
    "class Dog(Animal):\n",
    "\n",
    "    def __init__(self, name, species = 'Dog'):\n",
    "        super().__init__(name, species)\n",
    "\n",
    "    def display_species(self):\n",
    "        return self._species #protected variables can be accessed in classes they derive from\n",
    "                             # but also any inherited class\n",
    "\n",
    "eyo = Dog('Eyo')\n",
    "eyo.display_species()\n",
    "\n",
    "print(eyo._species) #python makes rules but doesn't necessarily enforce, DONT DO THIS!"
   ]
  },
  {
   "cell_type": "markdown",
   "metadata": {},
   "source": [
    "#### Private \n",
    "<p>Private attributes are denoted with a double '__' underscore. Attributes & methods that are private are only accessible in the class it was derived from making them the most secure. "
   ]
  },
  {
   "cell_type": "code",
   "execution_count": null,
   "metadata": {},
   "outputs": [],
   "source": []
  },
  {
   "cell_type": "markdown",
   "metadata": {},
   "source": [
    "## Classes as Attributes <br>\n",
    "<p>Classes can also be used as attributes within another class. This is useful in situations where you need to keep variables locally stored, instead of globally stored.</p>"
   ]
  },
  {
   "cell_type": "code",
   "execution_count": 89,
   "metadata": {},
   "outputs": [
    {
     "name": "stdout",
     "output_type": "stream",
     "text": [
      "{'year': 2023, 'make': 'Tesla', 'model': 'Model Y', 'battery': <__main__.Battery object at 0x103d0be50>}\n",
      "2023 Model Y with <__main__.Battery object at 0x103d0be50> battery\n"
     ]
    }
   ],
   "source": [
    "class Battery():\n",
    "    VOLTZ = 7.8\n",
    "\n",
    "    def __init__(self, cells):\n",
    "        self.circle = cells\n",
    "\n",
    "class Car():\n",
    "\n",
    "    def __init__(self, year, make, model, battery):\n",
    "        self.year = year\n",
    "        self.make = make\n",
    "        self.model = model\n",
    "        self.battery = battery\n",
    "\n",
    "    def print_info(self):\n",
    "        print(f\"{self.year} {self.model} with {self.battery} battery\")\n",
    "\n",
    "battery = Battery(20)\n",
    "\n",
    "tesla = Car(2023, 'Tesla', 'Model Y', battery)\n",
    "print(tesla.__dict__)\n",
    "tesla.print_info()"
   ]
  },
  {
   "cell_type": "markdown",
   "metadata": {},
   "source": [
    "### Generators in Classes"
   ]
  },
  {
   "cell_type": "code",
   "execution_count": 92,
   "metadata": {},
   "outputs": [],
   "source": [
    "class Movie:\n",
    "\n",
    "    def __init__(self):\n",
    "        self.genres = ['spooky', 'horror', 'thriller', 'adventure', 'comedy', 'action']\n",
    "        self.generator_object = self.yield_genres()\n",
    "\n",
    "    def yeild_genres():\n",
    "        for genre in self.genres:\n",
    "            yield genre\n",
    "\n",
    "\n",
    "    def show_genres(self):\n",
    "        try:\n",
    "            return next(self.generator_object)\n",
    "        except:\n",
    "            return \"No more generas to return\""
   ]
  },
  {
   "cell_type": "code",
   "execution_count": null,
   "metadata": {},
   "outputs": [],
   "source": []
  },
  {
   "cell_type": "markdown",
   "metadata": {},
   "source": [
    "# Exercises"
   ]
  },
  {
   "cell_type": "markdown",
   "metadata": {},
   "source": [
    "### Exercise 1 - Turn the shopping cart program from last week into an object-oriented program\n",
    "\n",
    "The comments in the cell below are there as a guide for thinking about the problem. However, if you feel a different way is best for you and your own thought process, please do what feels best for you by all means."
   ]
  },
  {
   "cell_type": "code",
   "execution_count": 17,
   "metadata": {},
   "outputs": [
    {
     "name": "stdin",
     "output_type": "stream",
     "text": [
      "Do you want to : Show/Add/Delete or Quit?:  add\n",
      "What would you like to add to your Shopping Cart?:  milk\n",
      "Do you want to : Show/Add/Delete or Quit?:  add\n",
      "What would you like to add to your Shopping Cart?:  eggs\n",
      "Do you want to : Show/Add/Delete or Quit?:  add\n",
      "What would you like to add to your Shopping Cart?:  water\n",
      "Do you want to : Show/Add/Delete or Quit?:  show\n"
     ]
    },
    {
     "name": "stdout",
     "output_type": "stream",
     "text": [
      "['milk', 'eggs', 'water']\n"
     ]
    },
    {
     "name": "stdin",
     "output_type": "stream",
     "text": [
      "Do you want to : Show/Add/Delete or Quit?:  delete\n",
      "What would you like to delete from your Shopping Cart?:  eggs\n",
      "Do you want to : Show/Add/Delete or Quit?:  shop\n"
     ]
    },
    {
     "name": "stdout",
     "output_type": "stream",
     "text": [
      "Invalid response, please input the following (Show/Add/Delete or Quit)\n"
     ]
    },
    {
     "name": "stdin",
     "output_type": "stream",
     "text": [
      "Do you want to : Show/Add/Delete or Quit?:  show\n"
     ]
    },
    {
     "name": "stdout",
     "output_type": "stream",
     "text": [
      "['milk', 'water']\n"
     ]
    },
    {
     "name": "stdin",
     "output_type": "stream",
     "text": [
      "Do you want to : Show/Add/Delete or Quit?:  quit\n"
     ]
    },
    {
     "name": "stdout",
     "output_type": "stream",
     "text": [
      "['milk', 'water']\n"
     ]
    }
   ],
   "source": [
    "# Create a class called cart that retains items and has methods to add, remove, and show\n",
    "list = []\n",
    "\n",
    "class Cart():\n",
    "\n",
    "    def shopping_cart(self):\n",
    "        while True:\n",
    "            user = input(\"Do you want to : Show/Add/Delete or Quit?: \").lower()\n",
    "        \n",
    "            if user == \"show\":\n",
    "                print(list)\n",
    "            elif user == \"add\":\n",
    "                item = input(\"What would you like to add to your Shopping Cart?: \").lower()\n",
    "                list.append(item)\n",
    "            elif user == \"delete\":\n",
    "                list.remove(input(\"What would you like to delete from your Shopping Cart?: \").lower())\n",
    "            elif user == \"quit\":\n",
    "                print(list)\n",
    "                break\n",
    "            else:\n",
    "                print(\"Invalid response, please input the following (Show/Add/Delete or Quit)\")\n",
    "\n",
    "\n",
    "shop = Cart()\n",
    "shop.shopping_cart()\n",
    "\n",
    "\n",
    "    "
   ]
  },
  {
   "cell_type": "markdown",
   "metadata": {},
   "source": [
    "### Exercise 1 Option 2 - Create A Video Game Character Class using Object-Oriented Programming\n",
    "<p>The character class should have the following attributes: character type (i.e. ogre, human, elf, etc), health points, attack points, weapons (list or dictionary). The class should also have the following methods to deplete health points, regain health points, add or remove weapons, and show character stats.\n",
    "    "
   ]
  },
  {
   "cell_type": "code",
   "execution_count": null,
   "metadata": {},
   "outputs": [],
   "source": [
    "\n",
    "class Character():\n",
    "    pass\n"
   ]
  },
  {
   "cell_type": "markdown",
   "metadata": {},
   "source": [
    "### Exercise 2 - Write a Python class which has two methods get_String and print_String. get_String accept a string from the user and print_String print the string in upper case"
   ]
  },
  {
   "cell_type": "code",
   "execution_count": 5,
   "metadata": {},
   "outputs": [
    {
     "name": "stdin",
     "output_type": "stream",
     "text": [
      "Input a string here:  hello\n"
     ]
    },
    {
     "name": "stdout",
     "output_type": "stream",
     "text": [
      "This is your string in upper case: HELLO\n"
     ]
    }
   ],
   "source": [
    "class String():\n",
    "\n",
    "    def get_string(self):\n",
    "        self.string = input(\"Input a string here: \")\n",
    "\n",
    "    def print_string(self):\n",
    "        print(f\"This is your string in upper case: {self.string.upper()}\")\n",
    "\n",
    "string = String()\n",
    "string.get_string()\n",
    "string.print_string()"
   ]
  },
  {
   "cell_type": "code",
   "execution_count": null,
   "metadata": {},
   "outputs": [],
   "source": []
  }
 ],
 "metadata": {
  "kernelspec": {
   "display_name": "Python 3 (ipykernel)",
   "language": "python",
   "name": "python3"
  },
  "language_info": {
   "codemirror_mode": {
    "name": "ipython",
    "version": 3
   },
   "file_extension": ".py",
   "mimetype": "text/x-python",
   "name": "python",
   "nbconvert_exporter": "python",
   "pygments_lexer": "ipython3",
   "version": "3.11.4"
  }
 },
 "nbformat": 4,
 "nbformat_minor": 4
}
